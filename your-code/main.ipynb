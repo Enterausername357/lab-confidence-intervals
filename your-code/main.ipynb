{
  "cells": [
    {
      "cell_type": "markdown",
      "metadata": {
        "id": "3PdkyE7QR7dy"
      },
      "source": [
        "# Confidence Intervals"
      ]
    },
    {
      "cell_type": "code",
      "execution_count": 3,
      "metadata": {
        "id": "ThUpt61YR7dz"
      },
      "outputs": [],
      "source": [
        "# Libraries\n",
        "import pandas as pd\n",
        "import numpy as np\n",
        "import math\n",
        "from scipy import stats"
      ]
    },
    {
      "cell_type": "markdown",
      "metadata": {
        "id": "ARdFjmjsR7d0"
      },
      "source": [
        "## Challenge 1\n",
        "We want to estimate the average size of the men of a country with a confidence level of 80%. Assuming that the standard deviation of the sizes in the population is 4, get the confidence interval with a sample of men selected randomly, whose heights are:\n",
        "\n",
        "````\n",
        "heights = [167, 167, 168, 168, 168, 169, 171, 172, 173, 175, 175, 175, 177, 182, 195]\n",
        "````\n",
        "\n",
        "**Hint**: function `stats.norm.interval` from `scipy` can help you get through this exercise."
      ]
    },
    {
      "cell_type": "code",
      "execution_count": 9,
      "metadata": {
        "colab": {
          "base_uri": "https://localhost:8080/"
        },
        "id": "mg0Y77F_R7d0",
        "outputId": "7e8d1852-a198-4d80-9451-37caeb5f7ed7"
      },
      "outputs": [
        {
          "output_type": "execute_result",
          "data": {
            "text/plain": [
              "(172.14308590115726, 174.79024743217607)"
            ]
          },
          "metadata": {},
          "execution_count": 9
        }
      ],
      "source": [
        "# your code here\n",
        "heights = [167, 167, 168, 168, 168, 169, 171, 172, 173, 175, 175, 175, 177, 182, 195]\n",
        "n = len(heights)\n",
        "mean = np.mean(heights)\n",
        "sd = 4 # Population standard deviation\n",
        "confidence = 0.8\n",
        "stats.norm.interval(confidence, loc=mean, scale=sd/np.sqrt(n))"
      ]
    },
    {
      "cell_type": "markdown",
      "metadata": {
        "id": "74h-B-12R7d1"
      },
      "source": [
        "## Challenge 2\n",
        "In a sample of 105 shops selected randomly from an area, we note that 27 of them have had losses in this month. Get an interval for the proportion of businesses in the area with losses to a confidence level of 80% and a confidence level of 90%.\n",
        "\n",
        "**Hint**: function `stats.norm.interval` from `scipy` can help you get through this exercise."
      ]
    },
    {
      "cell_type": "code",
      "execution_count": 10,
      "metadata": {
        "colab": {
          "base_uri": "https://localhost:8080/"
        },
        "id": "FcccUH7jR7d1",
        "outputId": "9c0052bc-bc88-4def-9b08-df5ab737b005"
      },
      "outputs": [
        {
          "output_type": "execute_result",
          "data": {
            "text/plain": [
              "(0.20248138545542083, 0.3118043288302934)"
            ]
          },
          "metadata": {},
          "execution_count": 10
        }
      ],
      "source": [
        "# your code here\n",
        "# For a confidence level of 80%\n",
        "n = 105\n",
        "x = 27\n",
        "p = x/n\n",
        "confidence = 0.8\n",
        "stats.norm.interval(confidence, loc=p, scale=np.sqrt(p*(1-p)/n))"
      ]
    },
    {
      "cell_type": "code",
      "source": [
        "# For a confidence level of 90%\n",
        "n = 105\n",
        "x = 27\n",
        "p = x/n\n",
        "confidence = 0.9\n",
        "stats.norm.interval(confidence, loc=p, scale=np.sqrt(p*(1-p)/n))"
      ],
      "metadata": {
        "colab": {
          "base_uri": "https://localhost:8080/"
        },
        "id": "wuJebLumUn2c",
        "outputId": "e344cc6a-58cf-45c9-9f66-d3987645b17b"
      },
      "execution_count": 11,
      "outputs": [
        {
          "output_type": "execute_result",
          "data": {
            "text/plain": [
              "(0.1869856177645281, 0.3273000965211861)"
            ]
          },
          "metadata": {},
          "execution_count": 11
        }
      ]
    },
    {
      "cell_type": "markdown",
      "metadata": {
        "id": "vV_fILkrR7d1"
      },
      "source": [
        "## Bonus Challenge\n",
        "The error level or sampling error for the first challenge is given by the following expression:\n",
        "$$Error = z_{\\frac{\\alpha}{2}}\\frac{\\sigma}{\\sqrt n}$$\n",
        "Where z represents the value for N(0,1)\n",
        "\n",
        "\n",
        "Suppose that with the previous data of challenge 1, and with a confidence level of\n",
        "99% (that is, almost certainly) we want to estimate the average population size, so that the error level committed is not greater than half a centimeter.\n",
        "\n",
        "#### 1.- Determine what size the selected sample of men should be."
      ]
    },
    {
      "cell_type": "code",
      "execution_count": 12,
      "metadata": {
        "colab": {
          "base_uri": "https://localhost:8080/"
        },
        "id": "v4Sfdq7ER7d2",
        "outputId": "60c7d68b-98ce-40ad-ec0f-4796bc0c2e73"
      },
      "outputs": [
        {
          "output_type": "stream",
          "name": "stdout",
          "text": [
            "424.63338246535767\n"
          ]
        }
      ],
      "source": [
        "# your code here\n",
        "sd = 4\n",
        "confidence = 0.99\n",
        "alpha = 1 - confidence\n",
        "z = stats.norm.ppf(1 - alpha/2)\n",
        "error = 0.5\n",
        "\n",
        "n = (z * sd / error)**2\n",
        "print(n)"
      ]
    },
    {
      "cell_type": "markdown",
      "metadata": {
        "id": "Ko1oxYSpR7d2"
      },
      "source": [
        "#### 2.- For the second challenge, we have the following error:\n",
        "$$ Error = z_{\\frac{\\alpha}{2}}\\sqrt{\\frac{p\\times q}{n}} $$\n",
        "#### Determine the sample size required to not exceed an error of 1% with a confidence of 80%."
      ]
    },
    {
      "cell_type": "code",
      "execution_count": 13,
      "metadata": {
        "colab": {
          "base_uri": "https://localhost:8080/"
        },
        "id": "PwCl9xb_R7d2",
        "outputId": "5817a220-ab9d-42c2-a245-29753e4e5c29"
      },
      "outputs": [
        {
          "output_type": "stream",
          "name": "stdout",
          "text": [
            "3237.119972260287\n"
          ]
        }
      ],
      "source": [
        "# your code here\n",
        "confidence = 0.8\n",
        "alpha = 1 - confidence\n",
        "z = stats.norm.ppf(1 - alpha/2)\n",
        "error = 0.01\n",
        "p = 0.27\n",
        "q = 1 - p\n",
        "\n",
        "n = (z**2 * p * q) / (error**2)\n",
        "print(n)"
      ]
    },
    {
      "cell_type": "markdown",
      "metadata": {
        "id": "dX7mw0_JR7d3"
      },
      "source": [
        "## Bonus Challenge\n",
        "\n",
        "Let's consider the following problem:\n",
        "\n",
        "Build a confidence interval of 94% for the real difference between the durations of two brands of spotlights, if a sample of 40 spotlights taken randomly from the first mark gave an average duration of 418 hours, and a sample of 50 bulbs of another brand gave a duration average of 402 hours. The standard deviations of the two\n",
        "populations are 26 hours and 22 hours, respectively.\n",
        "\n",
        "Sometimes, we will be interested in the difference of two different groups of random variables. We can also build a confidence interval for that! We have some different cases regarding the variance but for this specific case (the variance are different and known), we have that:\n",
        "\n",
        "$$\\overline{X} - \\overline{Y}  \\sim N(\\mu_{X} - \\mu_{Y} , \\sqrt{\\frac{\\sigma_{X}^2}{n_X}+\\frac{\\sigma_{Y}^2}{n_Y}})$$\n",
        "\n",
        "Solve the problem with this information."
      ]
    },
    {
      "cell_type": "code",
      "execution_count": 14,
      "metadata": {
        "colab": {
          "base_uri": "https://localhost:8080/"
        },
        "id": "Dl2obZM4R7d3",
        "outputId": "1c55f102-d62f-497f-a72e-de7f69e8f6a9"
      },
      "outputs": [
        {
          "output_type": "stream",
          "name": "stdout",
          "text": [
            "(6.303419026585921, 25.69658097341408)\n"
          ]
        }
      ],
      "source": [
        "# your code here\n",
        "confidence = 0.94\n",
        "alpha = 1 - confidence\n",
        "z = stats.norm.ppf(1 - alpha/2)\n",
        "\n",
        "n1 = 40\n",
        "mean1 = 418\n",
        "sd1 = 26\n",
        "\n",
        "n2 = 50\n",
        "mean2 = 402\n",
        "sd2 = 22\n",
        "\n",
        "diff = mean1 - mean2\n",
        "error = z * np.sqrt(sd1**2/n1 + sd2**2/n2)\n",
        "\n",
        "ci = (diff - error, diff + error)\n",
        "print(ci)"
      ]
    }
  ],
  "metadata": {
    "kernelspec": {
      "display_name": "Python 3",
      "language": "python",
      "name": "python3"
    },
    "language_info": {
      "codemirror_mode": {
        "name": "ipython",
        "version": 3
      },
      "file_extension": ".py",
      "mimetype": "text/x-python",
      "name": "python",
      "nbconvert_exporter": "python",
      "pygments_lexer": "ipython3",
      "version": "3.7.3"
    },
    "colab": {
      "provenance": []
    }
  },
  "nbformat": 4,
  "nbformat_minor": 0
}